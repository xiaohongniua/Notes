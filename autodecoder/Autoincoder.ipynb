{
 "cells": [
  {
   "cell_type": "markdown",
   "metadata": {},
   "source": [
    "The code is from https://blog.csdn.net/sinat_29957455"
   ]
  },
  {
   "cell_type": "code",
   "execution_count": 1,
   "metadata": {},
   "outputs": [],
   "source": [
    "import tensorflow as tf\n",
    "import numpy as np\n",
    "#from tensorflow.contrib.learn.python.learn.datasets.mnist import read_data_sets\n",
    "#from tensorflow.examples.tutorials.mnist import input_data\n",
    "import input_data\n",
    "import matplotlib.pyplot as plt\n",
    "%matplotlib notebook"
   ]
  },
  {
   "cell_type": "code",
   "execution_count": 2,
   "metadata": {},
   "outputs": [],
   "source": [
    "'''\n",
    "编码器解码器参数设置\n",
    "'''\n",
    "class Config(object):\n",
    "    #设置学习率\n",
    "    learning_rate = 0.001\n",
    "    #训练轮数\n",
    "    training_epochs = 20\n",
    "    #设置batch size\n",
    "    batch_size = 256\n",
    "    #设置每多少轮输出一次训练结果\n",
    "    print_epoch = 1\n",
    "    #从测试集选择多少张图片验证结果\n",
    "    test_to_show = 10\n",
    "    #设置第一层隐藏层神经元的个数\n",
    "    n_hidden1 = 256\n",
    "    #设置第二层隐藏层神经元的个数\n",
    "    n_hidden2 = 128\n",
    "    #设置输入神经元的个数\n",
    "    n_input = 784"
   ]
  },
  {
   "cell_type": "code",
   "execution_count": 3,
   "metadata": {},
   "outputs": [],
   "source": [
    "'''\n",
    "设置编码器和解码器的结构\n",
    "'''\n",
    "class Encoder_Decoder(object):\n",
    "    def __init__(self,config):\n",
    "        self.config = config\n",
    "        #定义输入\n",
    "        self.input_x = tf.placeholder(\"float\",[None,config.n_input])\n",
    "        self.weights = {\n",
    "            #设置第一层编码器权重\n",
    "            \"encoder_w1\":tf.Variable(tf.random_normal([self.config.n_input,self.config.n_hidden1])),\n",
    "            #设置第二层编码器权重\n",
    "            \"encoder_w2\":tf.Variable(tf.random_normal([self.config.n_hidden1,self.config.n_hidden2])),\n",
    "            #设置第一层解码器权重\n",
    "            \"decoder_w1\":tf.Variable(tf.random_normal([self.config.n_hidden2,self.config.n_hidden1])),\n",
    "            #设置第二层解码器权重\n",
    "            \"decoder_w2\":tf.Variable(tf.random_normal([self.config.n_hidden1,self.config.n_input]))\n",
    "        }\n",
    "        self.biases = {\n",
    "            #设置第一层编码器偏置\n",
    "            \"encoder_b1\":tf.Variable(tf.random_normal([self.config.n_hidden1])),\n",
    "            #设置第二层编码器偏置\n",
    "            \"encoder_b2\":tf.Variable(tf.random_normal([self.config.n_hidden2])),\n",
    "            #设置第一层解码器偏置\n",
    "            \"decoder_b1\":tf.Variable(tf.random_normal([self.config.n_hidden1])),\n",
    "            #设置第二层解码器偏置\n",
    "            \"decoder_b2\":tf.Variable(tf.random_normal([self.config.n_input]))\n",
    "        }\n",
    "        #编码\n",
    "        self.encoder()\n",
    "        #解码\n",
    "        self.decoder()\n",
    "        #定义平方差损失函数\n",
    "        self.loss = tf.reduce_mean(tf.pow(self.input_x - self.decoder_layer2,2))\n",
    "        #最小化损失函数\n",
    "        self.Adam = tf.train.AdamOptimizer(config.learning_rate).minimize(self.loss)\n",
    "    #编码器模型\n",
    "    def encoder(self):\n",
    "        #第一层编码器\n",
    "        self.encoder_layer1 = tf.nn.sigmoid(\n",
    "            tf.matmul(self.input_x,self.weights[\"encoder_w1\"])+self.biases[\"encoder_b1\"])\n",
    "        #第二层编码器\n",
    "        self.encoder_layer2 = tf.nn.sigmoid(\n",
    "            tf.matmul(self.encoder_layer1,self.weights[\"encoder_w2\"])+self.biases[\"encoder_b2\"])\n",
    " \n",
    "    #解码器模型\n",
    "    def decoder(self):\n",
    "        #第一层解码器\n",
    "        self.decoder_layer1 = tf.nn.sigmoid(tf.matmul(\n",
    "            self.encoder_layer2,self.weights[\"decoder_w1\"])+self.biases[\"decoder_b1\"])\n",
    "        #第二层解码器\n",
    "        self.decoder_layer2 = tf.nn.sigmoid(tf.matmul(\n",
    "            self.decoder_layer1,self.weights[\"decoder_w2\"])+self.biases[\"decoder_b2\"])"
   ]
  },
  {
   "cell_type": "code",
   "execution_count": 4,
   "metadata": {},
   "outputs": [],
   "source": [
    "def training():\n",
    "    #获取数据集\n",
    "    mnist_data = input_data.read_data_sets(\"MNIST_data\")\n",
    "    #初始化网络设置参数\n",
    "    config = Config()\n",
    "    #初始化网络\n",
    "    encode_decode = Encoder_Decoder(config)\n",
    "    with tf.Session() as sess:\n",
    "        sess.run(tf.global_variables_initializer())\n",
    "        #计算总的迭代次数\n",
    "        total_batch = (mnist_data.train.num_examples-1) // config.batch_size + 1\n",
    "        for epoch in range(config.training_epochs):\n",
    "            for i in range(total_batch):\n",
    "                batch_xs,batch_ys = mnist_data.train.next_batch(config.batch_size)\n",
    "                _,loss = sess.run([encode_decode.Adam,encode_decode.loss],\n",
    "                                  feed_dict={encode_decode.input_x:batch_xs})\n",
    "            if epoch % config.print_epoch == 0:\n",
    "                print(\"epoch:%d,loss:%.3f\"%(epoch+1,loss))\n",
    "        #对测试集的进行编码\n",
    "        test_encode_decode = sess.run(encode_decode.decoder_layer2,\n",
    "                        feed_dict={encode_decode.input_x:mnist_data.test.images[:config.test_to_show]})\n",
    "        #比较测试集和编码解码后的结果\n",
    "        f,a = plt.subplots(2,10,figsize=(10,2))\n",
    "        for i in range(config.test_to_show):\n",
    "            #测试集的原始图片\n",
    "            a[0][i].imshow(np.reshape(mnist_data.test.images[i],(28,28)))\n",
    "            #编码解码后的图片\n",
    "            a[1][i].imshow(np.reshape(test_encode_decode[i],(28,28)))\n",
    "        f.show()\n",
    "        plt.draw()"
   ]
  },
  {
   "cell_type": "code",
   "execution_count": 5,
   "metadata": {},
   "outputs": [
    {
     "name": "stdout",
     "output_type": "stream",
     "text": [
      "Extracting MNIST_data/train-images-idx3-ubyte.gz\n",
      "Extracting MNIST_data/train-labels-idx1-ubyte.gz\n",
      "Extracting MNIST_data/t10k-images-idx3-ubyte.gz\n",
      "Extracting MNIST_data/t10k-labels-idx1-ubyte.gz\n",
      "epoch:1,loss:0.122\n",
      "epoch:2,loss:0.116\n",
      "epoch:3,loss:0.110\n",
      "epoch:4,loss:0.104\n",
      "epoch:5,loss:0.099\n",
      "epoch:6,loss:0.095\n",
      "epoch:7,loss:0.088\n",
      "epoch:8,loss:0.084\n",
      "epoch:9,loss:0.084\n",
      "epoch:10,loss:0.080\n",
      "epoch:11,loss:0.079\n",
      "epoch:12,loss:0.079\n",
      "epoch:13,loss:0.076\n",
      "epoch:14,loss:0.076\n",
      "epoch:15,loss:0.075\n",
      "epoch:16,loss:0.075\n",
      "epoch:17,loss:0.075\n",
      "epoch:18,loss:0.071\n",
      "epoch:19,loss:0.069\n",
      "epoch:20,loss:0.066\n"
     ]
    },
    {
     "name": "stderr",
     "output_type": "stream",
     "text": [
      "/home/xhliu/miniconda3/lib/python3.6/site-packages/matplotlib/figure.py:459: UserWarning: matplotlib is currently using a non-GUI backend, so cannot show the figure\n",
      "  \"matplotlib is currently using a non-GUI backend, \"\n"
     ]
    },
    {
     "data": {
      "image/png": "[encoded data removed]",
      "text/plain": [
       "<Figure size 720x144 with 20 Axes>"
      ]
     },
     "metadata": {
      "needs_background": "light"
     },
     "output_type": "display_data"
    }
   ],
   "source": [
    "training()"
   ]
  },
  {
   "cell_type": "code",
   "execution_count": null,
   "metadata": {},
   "outputs": [],
   "source": []
  }
 ],
 "metadata": {
  "kernelspec": {
   "display_name": "Python 3",
   "language": "python",
   "name": "python3"
  },
  "language_info": {
   "codemirror_mode": {
    "name": "ipython",
    "version": 3
   },
   "file_extension": ".py",
   "mimetype": "text/x-python",
   "name": "python",
   "nbconvert_exporter": "python",
   "pygments_lexer": "ipython3",
   "version": "3.6.5"
  }
 },
 "nbformat": 4,
 "nbformat_minor": 2
}
